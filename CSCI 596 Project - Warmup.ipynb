{
 "cells": [
  {
   "cell_type": "markdown",
   "id": "4d8af4f1",
   "metadata": {},
   "source": [
    "### How long does each operation on matrices take?"
   ]
  },
  {
   "cell_type": "code",
   "execution_count": 1,
   "id": "8921209c",
   "metadata": {},
   "outputs": [],
   "source": [
    "import numpy as np\n",
    "import time"
   ]
  },
  {
   "cell_type": "code",
   "execution_count": 2,
   "id": "b579de1b",
   "metadata": {
    "scrolled": true
   },
   "outputs": [
    {
     "name": "stdout",
     "output_type": "stream",
     "text": [
      "4.746381107129548 microseconds\n"
     ]
    }
   ],
   "source": [
    "# Test 1: Vector multiplication\n",
    "# Multiplication of two 10000-dim vectors; unit: 10e-6 sec\n",
    "A = np.random.randn(10000)\n",
    "B = np.random.randn(10000)\n",
    "matrix = np.empty([100])\n",
    "\n",
    "for i in range(100):\n",
    "    t = time.time()\n",
    "    for k in range(10000):\n",
    "        C = np.dot(A, B)\n",
    "    d = time.time() - t\n",
    "    matrix[i] = 1e6*d/10000\n",
    "\n",
    "print(str(np.mean(matrix[5:])) + ' microseconds')"
   ]
  },
  {
   "cell_type": "code",
   "execution_count": 3,
   "id": "a46c0319",
   "metadata": {},
   "outputs": [
    {
     "name": "stdout",
     "output_type": "stream",
     "text": [
      "4.46516415947362 milliseconds\n"
     ]
    }
   ],
   "source": [
    "# Test 2: Matrix multiplication\n",
    "# Multiplication of two (500,500)-dim matrices; unit: 10e-3 sec\n",
    "A = np.random.randn(500,500)\n",
    "B = np.random.randn(500,500)\n",
    "matrix = np.empty([100])\n",
    "\n",
    "for i in range(100):\n",
    "    t = time.time()\n",
    "    for k in range(100):\n",
    "        C = np.dot(A, B)\n",
    "    d = time.time() - t\n",
    "    matrix[i] = 1e3*d/100\n",
    "\n",
    "print(str(np.mean(matrix[5:])) + ' milliseconds')"
   ]
  },
  {
   "cell_type": "code",
   "execution_count": 4,
   "id": "70368400",
   "metadata": {},
   "outputs": [
    {
     "name": "stdout",
     "output_type": "stream",
     "text": [
      "1.1679925893482408 deciseconds\n"
     ]
    }
   ],
   "source": [
    "# Test 3: Singular Value Decomposition\n",
    "# SVD of a (1000,500)-dim matrix; unit: 10e-1 sec\n",
    "A = np.random.randn(1000,500)\n",
    "matrix = np.empty([100])\n",
    "\n",
    "for i in range(100):\n",
    "    t = time.time()\n",
    "    for k in range(10):\n",
    "        [U,s,V] = np.linalg.svd(A, full_matrices=False)\n",
    "    d = time.time() - t\n",
    "    matrix[i] = 10*d/10\n",
    "\n",
    "print(str(np.mean(matrix[5:])) + ' deciseconds')"
   ]
  },
  {
   "cell_type": "code",
   "execution_count": 5,
   "id": "7d59a6a2",
   "metadata": {},
   "outputs": [
    {
     "name": "stdout",
     "output_type": "stream",
     "text": [
      "2.089321397480212 deciseconds\n"
     ]
    }
   ],
   "source": [
    "# Test 4: Eigen-Decomposition\n",
    "# Eigen-Decomposition of a (500,500)-dim matrix; unit: 10e-1 sec\n",
    "A = np.random.randn(500,500)\n",
    "matrix = np.empty([100])\n",
    "\n",
    "for i in range(100):\n",
    "    t = time.time()\n",
    "    for k in range(5):\n",
    "        w, v = np.linalg.eig(A)\n",
    "    d = time.time() - t\n",
    "    matrix[i] = 10*d/5\n",
    "\n",
    "print(str(np.mean(matrix[5:])) + ' deciseconds')"
   ]
  }
 ],
 "metadata": {
  "kernelspec": {
   "display_name": "Python 3 (ipykernel)",
   "language": "python",
   "name": "python3"
  },
  "language_info": {
   "codemirror_mode": {
    "name": "ipython",
    "version": 3
   },
   "file_extension": ".py",
   "mimetype": "text/x-python",
   "name": "python",
   "nbconvert_exporter": "python",
   "pygments_lexer": "ipython3",
   "version": "3.8.6rc1"
  }
 },
 "nbformat": 4,
 "nbformat_minor": 5
}
